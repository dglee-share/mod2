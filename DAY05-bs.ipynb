{
 "cells": [
  {
   "cell_type": "code",
   "execution_count": 35,
   "id": "c748f9c7",
   "metadata": {},
   "outputs": [
    {
     "name": "stdout",
     "output_type": "stream",
     "text": [
      "Elsie\n"
     ]
    }
   ],
   "source": [
    "from bs4 import BeautifulSoup\n",
    "from lxml import etree\n",
    "import requests\n",
    "\n",
    "html_doc = \"\"\"\n",
    "<html><head><title>The Dormouse's story</title></head>\n",
    "<body>\n",
    "<p class=\"title\"><b>The Dormouse's story</b></p>\n",
    "\n",
    "<p class=\"story\">Once upon a time there were three little sisters; and their names were\n",
    "<a href=\"http://example.com/elsie\" class=\"sister\" id=\"link1\">Elsie</a>,\n",
    "<a href=\"http://example.com/lacie\" class=\"sister\" id=\"link2\">Lacie</a> and\n",
    "<a href=\"http://example.com/tillie\" class=\"sister\" id=\"link3\">Tillie</a>;\n",
    "and they lived at the bottom of a well.</p>\n",
    "\n",
    "<p class=\"story\">...</p>\n",
    "</body></html>\n",
    "\"\"\"\n",
    "soup = BeautifulSoup(html_doc, 'html.parser')\n",
    "dom = etree.HTML(str(soup))\n",
    "print(dom.xpath('//p/a[@id]')[0].text)"
   ]
  },
  {
   "cell_type": "code",
   "execution_count": 17,
   "id": "7b94391a",
   "metadata": {},
   "outputs": [
    {
     "data": {
      "text/plain": [
       "[<p class=\"title\"><b>The Dormouse's story</b></p>,\n",
       " <p class=\"story\">Once upon a time there were three little sisters; and their names were\n",
       " <a class=\"sister\" href=\"http://example.com/elsie\" id=\"link1\">Elsie</a>,\n",
       " <a class=\"sister\" href=\"http://example.com/lacie\" id=\"link2\">Lacie</a> and\n",
       " <a class=\"sister\" href=\"http://example.com/tillie\" id=\"link3\">Tillie</a>;\n",
       " and they lived at the bottom of a well.</p>,\n",
       " <p class=\"story\">...</p>]"
      ]
     },
     "execution_count": 17,
     "metadata": {},
     "output_type": "execute_result"
    }
   ],
   "source": [
    "#print(soup)\n",
    "#soup.find('p')\n",
    "soup.find_all('p')"
   ]
  },
  {
   "cell_type": "code",
   "execution_count": 41,
   "id": "78da1938",
   "metadata": {},
   "outputs": [
    {
     "name": "stdout",
     "output_type": "stream",
     "text": [
      "헌트\n"
     ]
    }
   ],
   "source": [
    "url='https://search.naver.com/search.naver?where=nexearch&sm=top_hty&fbm=1&ie=utf8&query=%EC%98%81%ED%99%94%EC%88%9C%EC%9C%84'\n",
    "movie_rank = requests.get(url)\n",
    "\n",
    "soup = BeautifulSoup(movie_rank.content, 'html.parser')\n",
    "#print(soup)\n",
    "dom = etree.HTML(str(soup))\n",
    "mname = dom.xpath('//*[@id=\"main_pack\"]/div[3]/div[2]/div/div/div[2]/div[1]/div[1]/div/ul[1]/li[1]/a/div/div[2]/strong')\n",
    "print(mname[0].text)"
   ]
  },
  {
   "cell_type": "code",
   "execution_count": 43,
   "id": "1940b17f",
   "metadata": {},
   "outputs": [
    {
     "name": "stdout",
     "output_type": "stream",
     "text": [
      "느긋하게 생각하고 행동하면 그만큼 당신의 인덕에 도움이 될 것이다. 특히, 이동수가 있으니 신경 써야 하겠다. 당신의 앞날에 새로운 기회가 펼쳐질 수 있으나, 무턱대고 기회를 잡아서는 안 된다. 현실적인 환경을 먼저 생각하라. 당신이 자리에 서고 싶다면 남을 먼저 세우는 것이 이롭다.\n"
     ]
    }
   ],
   "source": [
    "url='https://search.naver.com/search.naver?where=nexearch&sm=tab_etc&qvt=0&query=%EC%A5%90%EB%9D%A0%20%EC%9A%B4%EC%84%B8'\n",
    "x = requests.get(url)\n",
    "soup = BeautifulSoup(x.content, 'html.parser')\n",
    "dom = etree.HTML(str(soup))\n",
    "#t = dom.xpath('//*[@id=\"yearFortune\"]/div/div[2]/p[2]')\n",
    "t = dom.xpath('//p[@class=\"text _cs_fortune_text\"]')\n",
    "print(t[0].text)"
   ]
  }
 ],
 "metadata": {
  "kernelspec": {
   "display_name": "Python 3 (ipykernel)",
   "language": "python",
   "name": "python3"
  },
  "language_info": {
   "codemirror_mode": {
    "name": "ipython",
    "version": 3
   },
   "file_extension": ".py",
   "mimetype": "text/x-python",
   "name": "python",
   "nbconvert_exporter": "python",
   "pygments_lexer": "ipython3",
   "version": "3.10.5"
  }
 },
 "nbformat": 4,
 "nbformat_minor": 5
}
