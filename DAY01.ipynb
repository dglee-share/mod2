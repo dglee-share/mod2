{
 "cells": [
  {
   "cell_type": "code",
   "execution_count": 8,
   "id": "a5aa56b2",
   "metadata": {
    "scrolled": true
   },
   "outputs": [],
   "source": [
    "import numpy as np"
   ]
  },
  {
   "cell_type": "code",
   "execution_count": 9,
   "id": "e322d0ec",
   "metadata": {},
   "outputs": [
    {
     "name": "stdout",
     "output_type": "stream",
     "text": [
      "1.23.1\n"
     ]
    }
   ],
   "source": [
    "print(np.version.version)"
   ]
  },
  {
   "cell_type": "code",
   "execution_count": 11,
   "id": "5ff0adbb",
   "metadata": {},
   "outputs": [
    {
     "name": "stdout",
     "output_type": "stream",
     "text": [
      "[0 1 2 3 4 5]\n",
      "[0, 1, 2, 3, 4, 5]\n"
     ]
    }
   ],
   "source": [
    "array1 = np.array([x for x in range(6)])\n",
    "list1 = [x for x in range(6)]\n",
    "print(array1)\n",
    "print(list1)\n",
    "print(type(array1))"
   ]
  },
  {
   "cell_type": "code",
   "execution_count": 22,
   "id": "27026769",
   "metadata": {},
   "outputs": [
    {
     "name": "stdout",
     "output_type": "stream",
     "text": [
      "[1, 2, 3, 'a', 'b', 'c']\n",
      "['1' '2' '3' 'a' 'b' 'c']\n",
      "<U11\n",
      "[ 1.   2.   3.  10.1 20.2 30.3]\n",
      "float64\n"
     ]
    }
   ],
   "source": [
    "list2 = [1,2,3,'a','b','c']\n",
    "print(list2)\n",
    "array2 = np.array(list2)\n",
    "print(array2)\n",
    "print(array2.dtype)\n",
    "\n",
    "array3 = np.array([1,2,3,10.1, 20.2, 30.3])\n",
    "print(array3)\n",
    "print(array3.dtype)"
   ]
  },
  {
   "cell_type": "code",
   "execution_count": 20,
   "id": "e05993af",
   "metadata": {},
   "outputs": [
    {
     "name": "stdout",
     "output_type": "stream",
     "text": [
      "[31. 33. 35. 37. 39. 41. 43. 45. 47. 49. 51. 53.]\n"
     ]
    }
   ],
   "source": [
    "# 30에서 55사이 (55불포함) 홀수로 ndarray 만들기\n",
    "array4 = np.array([x for x in range(31, 55, 2)], dtype=np.float64)\n",
    "print(array4)"
   ]
  },
  {
   "cell_type": "code",
   "execution_count": 31,
   "id": "3e6c2301",
   "metadata": {},
   "outputs": [
    {
     "name": "stdout",
     "output_type": "stream",
     "text": [
      "[10, 12, 14, 16, 18, 20, 22, 24, 26, 28, 30, 32, 34, 36, 38, 40, 42, 44, 46, 48]\n",
      "[10. 12. 14. 16. 18. 20. 22. 24. 26. 28. 30. 32. 34. 36. 38. 40. 42. 44.\n",
      " 46. 48.]\n"
     ]
    }
   ],
   "source": [
    "list5 = [x for x in range(10,50,2)]\n",
    "print(list5)\n",
    "array5 = np.arange(10., 50., 2.)\n",
    "print(array5)"
   ]
  },
  {
   "cell_type": "code",
   "execution_count": 33,
   "id": "b565e203",
   "metadata": {},
   "outputs": [
    {
     "name": "stdout",
     "output_type": "stream",
     "text": [
      "[-3.14 -2.64 -2.14 -1.64 -1.14 -0.64 -0.14  0.36  0.86  1.36  1.86  2.36\n",
      "  2.86]\n"
     ]
    }
   ],
   "source": [
    "# ndarray, -3.14에서 3.14까지(stop), 스텝 0.5\n",
    "array5 = np.arange(-3.14, 3.14, 0.5)\n",
    "print(array5)"
   ]
  },
  {
   "cell_type": "code",
   "execution_count": 35,
   "id": "67f7034f",
   "metadata": {},
   "outputs": [
    {
     "name": "stdout",
     "output_type": "stream",
     "text": [
      "[ 10.   32.5  55.   77.5 100. ]\n",
      "[-5.         -4.85507246 -4.71014493 -4.56521739 -4.42028986 -4.27536232\n",
      " -4.13043478 -3.98550725 -3.84057971 -3.69565217 -3.55072464 -3.4057971\n",
      " -3.26086957 -3.11594203 -2.97101449 -2.82608696 -2.68115942 -2.53623188\n",
      " -2.39130435 -2.24637681 -2.10144928 -1.95652174 -1.8115942  -1.66666667\n",
      " -1.52173913 -1.37681159 -1.23188406 -1.08695652 -0.94202899 -0.79710145\n",
      " -0.65217391 -0.50724638 -0.36231884 -0.2173913  -0.07246377  0.07246377\n",
      "  0.2173913   0.36231884  0.50724638  0.65217391  0.79710145  0.94202899\n",
      "  1.08695652  1.23188406  1.37681159  1.52173913  1.66666667  1.8115942\n",
      "  1.95652174  2.10144928  2.24637681  2.39130435  2.53623188  2.68115942\n",
      "  2.82608696  2.97101449  3.11594203  3.26086957  3.4057971   3.55072464\n",
      "  3.69565217  3.84057971  3.98550725  4.13043478  4.27536232  4.42028986\n",
      "  4.56521739  4.71014493  4.85507246  5.        ]\n"
     ]
    }
   ],
   "source": [
    "array6 = np.linspace(10, 100, 5)\n",
    "print(array6)\n",
    "array7 = np.linspace(-5, 5, 70)\n",
    "print(array7)"
   ]
  },
  {
   "cell_type": "code",
   "execution_count": 41,
   "id": "a09d8ff6",
   "metadata": {},
   "outputs": [
    {
     "name": "stdout",
     "output_type": "stream",
     "text": [
      "[0. 0. 0. 0. 0. 0. 0. 0. 0. 0.]\n",
      "[0. 0. 0. 0. 0. 0. 0. 0. 0. 0. 1. 0. 0. 0. 0. 0. 0. 0. 0. 0.]\n"
     ]
    }
   ],
   "source": [
    "array8 = np.zeros(10)\n",
    "print(array8)\n",
    "array9 = np.zeros(20)\n",
    "array9[10]=1\n",
    "print(array9)"
   ]
  },
  {
   "cell_type": "code",
   "execution_count": 44,
   "id": "45844021",
   "metadata": {},
   "outputs": [
    {
     "name": "stdout",
     "output_type": "stream",
     "text": [
      "[0, 1, 2, 3, 4, 5]\n",
      "[0. 0. 0. 0. 0. 0.]\n",
      "[0 0 0 0 0 0]\n"
     ]
    }
   ],
   "source": [
    "list10 = [x for x in range(6)]\n",
    "print(list10)\n",
    "array10_1  = np.zeros(len(list10))\n",
    "print(array10_1)\n",
    "array10_2 = np.zeros_like(list10)\n",
    "print(array10_2)"
   ]
  },
  {
   "cell_type": "code",
   "execution_count": 49,
   "id": "2864d721",
   "metadata": {},
   "outputs": [
    {
     "name": "stdout",
     "output_type": "stream",
     "text": [
      "[10 11 12 13 14 15 16 17 18 19 20 21 22 23 24 25 26 27 28 29 30 31 32 33\n",
      " 34 35 36 37 38 39 40 41 42 43 44 45 46 47 48 49]\n",
      "[10 12 14 16 18 20 22 24 26 28 30 32 34 36 38 40 42 44 46 48]\n"
     ]
    }
   ],
   "source": [
    "array11 = np.arange(10, 50)\n",
    "print(array11)\n",
    "print(array11[::2])"
   ]
  },
  {
   "cell_type": "code",
   "execution_count": 52,
   "id": "d399f553",
   "metadata": {},
   "outputs": [
    {
     "name": "stdout",
     "output_type": "stream",
     "text": [
      "1\n",
      "(40,)\n"
     ]
    }
   ],
   "source": [
    "print(array11.ndim)\n",
    "print(array11.shape)"
   ]
  },
  {
   "cell_type": "code",
   "execution_count": 55,
   "id": "43fc38fe",
   "metadata": {},
   "outputs": [
    {
     "name": "stdout",
     "output_type": "stream",
     "text": [
      "[[ 1  2  3]\n",
      " [10 20 30]]\n",
      "2\n",
      "(2, 3)\n",
      "[[ 1  2]\n",
      " [ 3 10]\n",
      " [20 30]]\n",
      "2\n",
      "(3, 2)\n"
     ]
    }
   ],
   "source": [
    "array12 = np.array([[1,2,3],[10,20,30]])\n",
    "print(array12)\n",
    "print(array12.ndim)\n",
    "print(array12.shape)\n",
    "array13 = array12.reshape(3,2)\n",
    "print(array13)\n",
    "print(array13.ndim)\n",
    "print(array13.shape)"
   ]
  },
  {
   "cell_type": "code",
   "execution_count": 56,
   "id": "27f92762",
   "metadata": {},
   "outputs": [
    {
     "name": "stdout",
     "output_type": "stream",
     "text": [
      "[[-10.          -7.89473684  -5.78947368  -3.68421053  -1.57894737]\n",
      " [  0.52631579   2.63157895   4.73684211   6.84210526   8.94736842]\n",
      " [ 11.05263158  13.15789474  15.26315789  17.36842105  19.47368421]\n",
      " [ 21.57894737  23.68421053  25.78947368  27.89473684  30.        ]]\n"
     ]
    }
   ],
   "source": [
    "# -10 에서 30 사이(포함) 균일하게 분포하는 숫자 20개를, shape (4,5)로 만들기.\n",
    "array14 = np.linspace(-10, 30, 20).reshape(4,5)\n",
    "print(array14)"
   ]
  },
  {
   "cell_type": "code",
   "execution_count": 65,
   "id": "00716d92",
   "metadata": {},
   "outputs": [
    {
     "name": "stdout",
     "output_type": "stream",
     "text": [
      "[[100 101 102 103 104]\n",
      " [105 106 107 108 109]\n",
      " [110 111 112 113 114]\n",
      " [115 116 117 118 119]]\n",
      "[[102 103]\n",
      " [107 108]]\n",
      "[[110 111 112]\n",
      " [115 116 117]]\n"
     ]
    }
   ],
   "source": [
    "array15 = np.arange(100,120).reshape(4,5)\n",
    "print(array15)\n",
    "print(array15[0:2,2:4])\n",
    "print(array15[2:,:3])"
   ]
  },
  {
   "cell_type": "code",
   "execution_count": 69,
   "id": "0ae442eb",
   "metadata": {},
   "outputs": [
    {
     "name": "stdout",
     "output_type": "stream",
     "text": [
      "[[ True False  True False  True]\n",
      " [False  True False  True False]\n",
      " [ True False  True False  True]\n",
      " [False  True False  True False]]\n",
      "[100 102 104 106 108 110 112 114 116 118]\n",
      "[100 102 104 106 108 110 112 114 116 118]\n"
     ]
    }
   ],
   "source": [
    "x = (array15%2==0)\n",
    "print(x)\n",
    "print(array15[x])\n",
    "print(array15[array15%2==0])"
   ]
  },
  {
   "cell_type": "code",
   "execution_count": 75,
   "id": "a6570de7",
   "metadata": {},
   "outputs": [
    {
     "name": "stdout",
     "output_type": "stream",
     "text": [
      "[2 3]\n",
      "[10  3]\n",
      "[1 2 3 4 5]\n"
     ]
    },
    {
     "ename": "AttributeError",
     "evalue": "'numpy.ndarray' object has no attribute 'append'",
     "output_type": "error",
     "traceback": [
      "\u001b[1;31m---------------------------------------------------------------------------\u001b[0m",
      "\u001b[1;31mAttributeError\u001b[0m                            Traceback (most recent call last)",
      "Input \u001b[1;32mIn [75]\u001b[0m, in \u001b[0;36m<cell line: 8>\u001b[1;34m()\u001b[0m\n\u001b[0;32m      6\u001b[0m \u001b[38;5;28mprint\u001b[39m(x)\n\u001b[0;32m      7\u001b[0m \u001b[38;5;28mprint\u001b[39m(array16)\n\u001b[1;32m----> 8\u001b[0m array17 \u001b[38;5;241m=\u001b[39m \u001b[43marray16\u001b[49m\u001b[38;5;241;43m.\u001b[39;49m\u001b[43mappend\u001b[49m(\u001b[38;5;241m10\u001b[39m)\n",
      "\u001b[1;31mAttributeError\u001b[0m: 'numpy.ndarray' object has no attribute 'append'"
     ]
    }
   ],
   "source": [
    "array16 = np.array([1,2,3,4,5])\n",
    "#x = array16[1:3]\n",
    "x = array16[1:3].copy()\n",
    "print(x)\n",
    "x[0]=10\n",
    "print(x)\n",
    "print(array16)\n",
    "## array17 = array16.append(10)"
   ]
  },
  {
   "cell_type": "code",
   "execution_count": 87,
   "id": "85599d24",
   "metadata": {},
   "outputs": [
    {
     "name": "stdout",
     "output_type": "stream",
     "text": [
      "[10 11 12 13 14]\n",
      "[20 21 22 23 24]\n",
      "[[10 11 12 13 14]\n",
      " [20 21 22 23 24]\n",
      " [30 31 32 33 34]]\n",
      "[20 21 22 23 24 10 11 12 13 14]\n",
      "[100  21  22  23  24]\n",
      "[20 21 22 23 24 10 11 12 13 14]\n"
     ]
    }
   ],
   "source": [
    "a1 = np.arange(10, 15)\n",
    "a2 = np.arange(20, 25)\n",
    "a2_2 = np.arange(30,35)\n",
    "print(a1)\n",
    "print(a2)\n",
    "a3 = np.vstack((a1,a2,a2_2))\n",
    "print(a3)\n",
    "a4 = np.hstack((a2,a1))\n",
    "print(a4)\n",
    "a2[0]=100\n",
    "print(a2)\n",
    "print(a4)"
   ]
  },
  {
   "cell_type": "code",
   "execution_count": 91,
   "id": "9a87d49d",
   "metadata": {},
   "outputs": [
    {
     "name": "stdout",
     "output_type": "stream",
     "text": [
      "[[10 11 12]\n",
      " [13 14 15]\n",
      " [16 17 18]]\n",
      ".........\n",
      "[[20 21 22]\n",
      " [23 24 25]\n",
      " [26 27 28]]\n",
      "[[10 11 12]\n",
      " [13 14 15]\n",
      " [16 17 18]\n",
      " [20 21 22]\n",
      " [23 24 25]\n",
      " [26 27 28]]\n",
      "[[20 21 22 10 11 12]\n",
      " [23 24 25 13 14 15]\n",
      " [26 27 28 16 17 18]]\n"
     ]
    }
   ],
   "source": [
    "a1 = np.arange(10,19).reshape(3,3)\n",
    "a2 = np.arange(20,29).reshape(3,3)\n",
    "print(a1)\n",
    "print('.........')\n",
    "print(a2)\n",
    "a3 = np.vstack((a1,a2))\n",
    "print(a3)\n",
    "a4 = np.hstack((a2,a1))\n",
    "print(a4)"
   ]
  },
  {
   "cell_type": "code",
   "execution_count": 94,
   "id": "195fd1a8",
   "metadata": {},
   "outputs": [
    {
     "name": "stdout",
     "output_type": "stream",
     "text": [
      "[10 11 12 13 14]\n",
      "[20 21 22 23 24]\n",
      "[1, 2, 3, 4, 5, 10, 20, 30, 40, 50]\n",
      "abcdef\n",
      "[30 32 34 36 38]\n"
     ]
    }
   ],
   "source": [
    "a1 = np.arange(10, 15)\n",
    "a2 = np.arange(20, 25)\n",
    "a2_2 = np.arange(30,35)\n",
    "print(a1)\n",
    "print(a2)\n",
    "\n",
    "list1 = [1,2,3,4,5]\n",
    "list2 = [10,20,30,40,50]\n",
    "print(list1 + list2)\n",
    "s1 = 'abc'\n",
    "s2 = 'def'\n",
    "print(s1+s2)\n",
    "print(a1+a2)"
   ]
  },
  {
   "cell_type": "code",
   "execution_count": 95,
   "id": "c1f1fe11",
   "metadata": {},
   "outputs": [
    {
     "name": "stdout",
     "output_type": "stream",
     "text": [
      "[[10 11 12 13 14 15 16 17 18 19]\n",
      " [20 21 22 23 24 25 26 27 28 29]\n",
      " [30 31 32 33 34 35 36 37 38 39]\n",
      " [40 41 42 43 44 45 46 47 48 49]]\n"
     ]
    }
   ],
   "source": [
    "a1 = np.arange(10,50).reshape(4,10)\n",
    "print(a1)"
   ]
  },
  {
   "cell_type": "code",
   "execution_count": 103,
   "id": "2b396b9c",
   "metadata": {},
   "outputs": [
    {
     "name": "stdout",
     "output_type": "stream",
     "text": [
      "[array([[10, 11, 12, 13, 14, 15, 16, 17, 18, 19],\n",
      "       [20, 21, 22, 23, 24, 25, 26, 27, 28, 29]]), array([[30, 31, 32, 33, 34, 35, 36, 37, 38, 39],\n",
      "       [40, 41, 42, 43, 44, 45, 46, 47, 48, 49]])]\n"
     ]
    }
   ],
   "source": [
    "print(np.vsplit(a1,2))"
   ]
  },
  {
   "cell_type": "code",
   "execution_count": 102,
   "id": "638e9e63",
   "metadata": {},
   "outputs": [
    {
     "name": "stdout",
     "output_type": "stream",
     "text": [
      "[array([[10, 11, 12, 13, 14],\n",
      "       [20, 21, 22, 23, 24],\n",
      "       [30, 31, 32, 33, 34],\n",
      "       [40, 41, 42, 43, 44]]), array([[15, 16, 17, 18, 19],\n",
      "       [25, 26, 27, 28, 29],\n",
      "       [35, 36, 37, 38, 39],\n",
      "       [45, 46, 47, 48, 49]])]\n"
     ]
    }
   ],
   "source": [
    "x = np.hsplit(a1,2)\n",
    "print(x)\n",
    "#print(type(x))"
   ]
  },
  {
   "cell_type": "code",
   "execution_count": 108,
   "id": "14ee9990",
   "metadata": {},
   "outputs": [
    {
     "name": "stdout",
     "output_type": "stream",
     "text": [
      "[1 2 3 4 5]\n",
      "(5,)\n",
      "[[1 2 3 4 5]]\n",
      "(1, 5)\n",
      "[[1]\n",
      " [2]\n",
      " [3]\n",
      " [4]\n",
      " [5]]\n",
      "(5, 1)\n"
     ]
    }
   ],
   "source": [
    "# axis\n",
    "def pinfo(x):\n",
    "    print(x)\n",
    "    print(x.shape)\n",
    "    \n",
    "a1 = np.arange(1,6)\n",
    "pinfo(a1)\n",
    "\n",
    "a2 = a1[np.newaxis, :]\n",
    "pinfo(a2)\n",
    "\n",
    "a3 = a1[:, np.newaxis]\n",
    "pinfo(a3)"
   ]
  },
  {
   "cell_type": "code",
   "execution_count": 113,
   "id": "951d575e",
   "metadata": {},
   "outputs": [
    {
     "name": "stdout",
     "output_type": "stream",
     "text": [
      "[0 1 2 3 4 5 6 7 8 9] 45\n",
      "(2, 10)\n",
      "[[ 0  1  2  3  4  5  6  7  8  9]\n",
      " [10 11 12 13 14 15 16 17 18 19]] [10 12 14 16 18 20 22 24 26 28]\n",
      "[[ 0  1  2  3  4  5  6  7  8  9]\n",
      " [10 11 12 13 14 15 16 17 18 19]] [ 45 145]\n"
     ]
    }
   ],
   "source": [
    "a1 = np.arange(10)\n",
    "print(a1, a1.sum())\n",
    "a2 = np.arange(20).reshape(2,10)\n",
    "print(a2.shape)\n",
    "print(a2, a2.sum(axis=0))\n",
    "print(a2, a2.sum(axis=1))"
   ]
  }
 ],
 "metadata": {
  "kernelspec": {
   "display_name": "Python 3 (ipykernel)",
   "language": "python",
   "name": "python3"
  },
  "language_info": {
   "codemirror_mode": {
    "name": "ipython",
    "version": 3
   },
   "file_extension": ".py",
   "mimetype": "text/x-python",
   "name": "python",
   "nbconvert_exporter": "python",
   "pygments_lexer": "ipython3",
   "version": "3.10.5"
  }
 },
 "nbformat": 4,
 "nbformat_minor": 5
}
