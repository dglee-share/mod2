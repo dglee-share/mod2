{
 "cells": [
  {
   "cell_type": "code",
   "execution_count": 19,
   "id": "9043f177",
   "metadata": {},
   "outputs": [],
   "source": [
    "import pickle\n",
    "\n",
    "with open('서울교통공사_지하철혼잡도정보_20211231.csv', 'r') as f:\n",
    "    raw = f.readlines()\n",
    "\n",
    "raw_list=[]\n",
    "for line in raw:\n",
    "    raw_list.append(line[:-1].split(','))\n",
    "#print(raw_list)\n",
    "\n",
    "time_slots=raw_list[0][6:]\n",
    "#print(time_slots)\n",
    "date_type_list = list(set([x[1] for x in raw_list[1:]]))\n",
    "#print(date_type_list)\n",
    "line_type_list = list(set([x[5] for x in raw_list[1:]]))\n",
    "#print(line_type_list)\n",
    "\n",
    "data=[]\n",
    "for x in raw_list[1:]:\n",
    "    sub_list=[]\n",
    "    for index, value in enumerate(x[1:]):\n",
    "        if index == 3:\n",
    "            continue\n",
    "        if index == 0:\n",
    "            sub_list.append(date_type_list.index(value))\n",
    "        elif index == 4:\n",
    "            sub_list.append(line_type_list.index(value))\n",
    "        elif index > 4:\n",
    "            sub_list.append(float(value))\n",
    "        else:\n",
    "            sub_list.append(int(value))\n",
    "    data.append(sub_list)\n",
    "#print(data)\n",
    "\n",
    "pickle_dict = dict()\n",
    "pickle_dict['time_slot']=time_slots\n",
    "pickle_dict['date_type_list']=date_type_list\n",
    "pickle_dict['line_type_list']=line_type_list\n",
    "pickle_dict['data']=data\n",
    "pickle_dict['comment']='comment'\n",
    "\n",
    "with open('pickle.data', 'wb') as f:\n",
    "    pickle.dump(pickle_dict, f)"
   ]
  },
  {
   "cell_type": "code",
   "execution_count": 27,
   "id": "22da6f98",
   "metadata": {},
   "outputs": [
    {
     "name": "stdout",
     "output_type": "stream",
     "text": [
      "(1704, 41)\n",
      "[[ 9.1  8.6  9.3 ... 20.3 12.6 10.3]\n",
      " [ 7.   6.8 10.2 ... 18.5 11.8  9.1]\n",
      " [ 7.8  7.4 10.9 ... 15.1 10.7  7.1]\n",
      " ...\n",
      " [ 7.   3.   2.2 ...  1.6  2.2  1.5]\n",
      " [ 9.3  4.1  2.6 ...  0.9  1.1  0.5]\n",
      " [ 0.   0.   0.  ...  0.   0.   0. ]]\n"
     ]
    }
   ],
   "source": [
    "import numpy as np\n",
    "\n",
    "#print(data)\n",
    "np_data = np.array(data, dtype=np.float32)\n",
    "print(np_data.shape)\n",
    "sub = np_data[::2,4:]\n",
    "print(sub)"
   ]
  }
 ],
 "metadata": {
  "kernelspec": {
   "display_name": "Python 3 (ipykernel)",
   "language": "python",
   "name": "python3"
  },
  "language_info": {
   "codemirror_mode": {
    "name": "ipython",
    "version": 3
   },
   "file_extension": ".py",
   "mimetype": "text/x-python",
   "name": "python",
   "nbconvert_exporter": "python",
   "pygments_lexer": "ipython3",
   "version": "3.10.5"
  }
 },
 "nbformat": 4,
 "nbformat_minor": 5
}
