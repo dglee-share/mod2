{
 "cells": [
  {
   "cell_type": "code",
   "execution_count": 18,
   "id": "8a37121f",
   "metadata": {},
   "outputs": [],
   "source": [
    "# selenium: 네이버 검색\n",
    "from selenium import webdriver\n",
    "from selenium.webdriver.chrome.options import Options\n",
    "from selenium.webdriver.common.by import By\n",
    "\n",
    "opt = Options()\n",
    "#opt.headless = True\n",
    "\n",
    "driver = webdriver.Chrome(options=opt)\n",
    "driver.get(\"http://www.naver.com\")\n",
    "\n",
    "naver_search_box = driver.find_elements(By.XPATH,'//input[@id=\"query\"]')\n",
    "naver_search_button = driver.find_elements(By.XPATH, '//button[@id=\"search_btn\"]')"
   ]
  },
  {
   "cell_type": "code",
   "execution_count": 7,
   "id": "4c48c60a",
   "metadata": {},
   "outputs": [
    {
     "name": "stdout",
     "output_type": "stream",
     "text": [
      "[<selenium.webdriver.remote.webelement.WebElement (session=\"d675e2f9982c3487a4d7e2fc0585c356\", element=\"5d1e55a9-5914-4f39-92e4-50a319dff0fe\")>]\n"
     ]
    }
   ],
   "source": [
    "print(naver_search_box)\n",
    "naver_search_box[0].send_keys('영화순위')"
   ]
  },
  {
   "cell_type": "code",
   "execution_count": 8,
   "id": "f1177a7f",
   "metadata": {},
   "outputs": [],
   "source": [
    "naver_search_button[0].click()"
   ]
  },
  {
   "cell_type": "code",
   "execution_count": 9,
   "id": "f6af40e0",
   "metadata": {},
   "outputs": [
    {
     "name": "stdout",
     "output_type": "stream",
     "text": [
      "[<selenium.webdriver.remote.webelement.WebElement (session=\"d675e2f9982c3487a4d7e2fc0585c356\", element=\"57523ef7-7cf1-45fe-8539-2b6260087622\")>, <selenium.webdriver.remote.webelement.WebElement (session=\"d675e2f9982c3487a4d7e2fc0585c356\", element=\"48ad9317-c5c1-4fc7-bec2-9749dfb8fe87\")>, <selenium.webdriver.remote.webelement.WebElement (session=\"d675e2f9982c3487a4d7e2fc0585c356\", element=\"8baea6b5-3317-475a-b374-6bd4920f54a3\")>, <selenium.webdriver.remote.webelement.WebElement (session=\"d675e2f9982c3487a4d7e2fc0585c356\", element=\"b6601c01-a19b-44dc-8ce4-da1560baafe3\")>, <selenium.webdriver.remote.webelement.WebElement (session=\"d675e2f9982c3487a4d7e2fc0585c356\", element=\"3793c044-90a0-4009-949b-34f3bd0f1959\")>, <selenium.webdriver.remote.webelement.WebElement (session=\"d675e2f9982c3487a4d7e2fc0585c356\", element=\"c5f17429-5393-418a-b175-56a27c6b5887\")>, <selenium.webdriver.remote.webelement.WebElement (session=\"d675e2f9982c3487a4d7e2fc0585c356\", element=\"8b5cac1a-8d3a-4599-be5e-36820454e8fc\")>, <selenium.webdriver.remote.webelement.WebElement (session=\"d675e2f9982c3487a4d7e2fc0585c356\", element=\"e833dc1d-ec8b-4f47-a44d-66905e8a941b\")>, <selenium.webdriver.remote.webelement.WebElement (session=\"d675e2f9982c3487a4d7e2fc0585c356\", element=\"8b2c9836-c9cf-41c2-8e45-cb9f5d1737a8\")>, <selenium.webdriver.remote.webelement.WebElement (session=\"d675e2f9982c3487a4d7e2fc0585c356\", element=\"e1afe348-c0a4-425b-9963-cc9c545b78b2\")>, <selenium.webdriver.remote.webelement.WebElement (session=\"d675e2f9982c3487a4d7e2fc0585c356\", element=\"5f197cca-11c4-4bbf-8c01-760abb12a2df\")>, <selenium.webdriver.remote.webelement.WebElement (session=\"d675e2f9982c3487a4d7e2fc0585c356\", element=\"17ae072a-eceb-4bf8-b525-a0644118a612\")>, <selenium.webdriver.remote.webelement.WebElement (session=\"d675e2f9982c3487a4d7e2fc0585c356\", element=\"5afcf8ff-cd05-41d5-9b0e-ee75f052755e\")>, <selenium.webdriver.remote.webelement.WebElement (session=\"d675e2f9982c3487a4d7e2fc0585c356\", element=\"2df1e99e-ae24-43de-b521-027ebffb155e\")>, <selenium.webdriver.remote.webelement.WebElement (session=\"d675e2f9982c3487a4d7e2fc0585c356\", element=\"1c638d29-9110-4dff-b28b-8692bfaa8bcc\")>, <selenium.webdriver.remote.webelement.WebElement (session=\"d675e2f9982c3487a4d7e2fc0585c356\", element=\"8b1c3ad6-6bec-4458-833c-e530de5cb3e3\")>, <selenium.webdriver.remote.webelement.WebElement (session=\"d675e2f9982c3487a4d7e2fc0585c356\", element=\"cc1c0947-3507-4f3c-870b-441d2ade14be\")>, <selenium.webdriver.remote.webelement.WebElement (session=\"d675e2f9982c3487a4d7e2fc0585c356\", element=\"0fdc7202-a90b-4095-bba0-3cf0fe39850b\")>, <selenium.webdriver.remote.webelement.WebElement (session=\"d675e2f9982c3487a4d7e2fc0585c356\", element=\"4ec19e1a-ccaf-4048-96e5-9d28ed87ef0d\")>, <selenium.webdriver.remote.webelement.WebElement (session=\"d675e2f9982c3487a4d7e2fc0585c356\", element=\"35c78763-141a-4a6f-bea1-7df934fb1ad6\")>, <selenium.webdriver.remote.webelement.WebElement (session=\"d675e2f9982c3487a4d7e2fc0585c356\", element=\"b63bb001-b973-4d5f-baf5-c3f22b49fbf2\")>, <selenium.webdriver.remote.webelement.WebElement (session=\"d675e2f9982c3487a4d7e2fc0585c356\", element=\"50fb0a81-1080-46e4-8d61-b5433830a727\")>, <selenium.webdriver.remote.webelement.WebElement (session=\"d675e2f9982c3487a4d7e2fc0585c356\", element=\"e425cf73-20d4-42d0-9058-461302b7cce7\")>, <selenium.webdriver.remote.webelement.WebElement (session=\"d675e2f9982c3487a4d7e2fc0585c356\", element=\"e6a61228-2dfc-46ce-9bff-937288cb9abd\")>, <selenium.webdriver.remote.webelement.WebElement (session=\"d675e2f9982c3487a4d7e2fc0585c356\", element=\"271240c2-f534-4fd3-b8ae-95ed449c904d\")>, <selenium.webdriver.remote.webelement.WebElement (session=\"d675e2f9982c3487a4d7e2fc0585c356\", element=\"50fac7da-2a06-46aa-8317-c8574b1ee9bc\")>, <selenium.webdriver.remote.webelement.WebElement (session=\"d675e2f9982c3487a4d7e2fc0585c356\", element=\"1a552601-0051-49f5-9e25-f1437af055f3\")>, <selenium.webdriver.remote.webelement.WebElement (session=\"d675e2f9982c3487a4d7e2fc0585c356\", element=\"958dd70a-f1eb-4d74-b291-016fd4fc42d9\")>, <selenium.webdriver.remote.webelement.WebElement (session=\"d675e2f9982c3487a4d7e2fc0585c356\", element=\"fc45dc02-664f-4d23-a726-433fe9207bb6\")>, <selenium.webdriver.remote.webelement.WebElement (session=\"d675e2f9982c3487a4d7e2fc0585c356\", element=\"13713b52-4927-455c-b28b-34d45efb0c95\")>, <selenium.webdriver.remote.webelement.WebElement (session=\"d675e2f9982c3487a4d7e2fc0585c356\", element=\"82096653-666f-467d-84bf-a92215f87b00\")>, <selenium.webdriver.remote.webelement.WebElement (session=\"d675e2f9982c3487a4d7e2fc0585c356\", element=\"dd66f888-f716-40df-9517-bb59dc112353\")>, <selenium.webdriver.remote.webelement.WebElement (session=\"d675e2f9982c3487a4d7e2fc0585c356\", element=\"828383dc-4928-49c4-8f03-e3599a8775e8\")>, <selenium.webdriver.remote.webelement.WebElement (session=\"d675e2f9982c3487a4d7e2fc0585c356\", element=\"6c33a0c8-2896-483c-a251-4bfceaadce23\")>, <selenium.webdriver.remote.webelement.WebElement (session=\"d675e2f9982c3487a4d7e2fc0585c356\", element=\"eeeaead7-0340-45e0-83dd-f327b383a769\")>, <selenium.webdriver.remote.webelement.WebElement (session=\"d675e2f9982c3487a4d7e2fc0585c356\", element=\"14dc592c-14fd-48a0-9354-dfd3e4f28942\")>, <selenium.webdriver.remote.webelement.WebElement (session=\"d675e2f9982c3487a4d7e2fc0585c356\", element=\"b8b0ad33-b13f-4e8a-88f6-3ca6f2df4cd2\")>, <selenium.webdriver.remote.webelement.WebElement (session=\"d675e2f9982c3487a4d7e2fc0585c356\", element=\"9f70ac15-4f81-45ce-b493-d5c8e1a45b0f\")>, <selenium.webdriver.remote.webelement.WebElement (session=\"d675e2f9982c3487a4d7e2fc0585c356\", element=\"49600ec9-269a-48f8-b67f-fc127746998c\")>, <selenium.webdriver.remote.webelement.WebElement (session=\"d675e2f9982c3487a4d7e2fc0585c356\", element=\"5b51b513-4de4-4a5e-9094-64054e0b94d5\")>, <selenium.webdriver.remote.webelement.WebElement (session=\"d675e2f9982c3487a4d7e2fc0585c356\", element=\"a508549a-28df-49c1-aeca-08815914dd43\")>, <selenium.webdriver.remote.webelement.WebElement (session=\"d675e2f9982c3487a4d7e2fc0585c356\", element=\"04998172-6bdb-4d56-8f9c-33b14cd693c5\")>, <selenium.webdriver.remote.webelement.WebElement (session=\"d675e2f9982c3487a4d7e2fc0585c356\", element=\"169745e9-98a7-47ad-aa88-d5dfdf41fec2\")>, <selenium.webdriver.remote.webelement.WebElement (session=\"d675e2f9982c3487a4d7e2fc0585c356\", element=\"6ea660c8-1080-4e98-8c65-55d344e69af9\")>, <selenium.webdriver.remote.webelement.WebElement (session=\"d675e2f9982c3487a4d7e2fc0585c356\", element=\"5ecdf8a2-7dda-4414-bf5a-2200c464a8d0\")>, <selenium.webdriver.remote.webelement.WebElement (session=\"d675e2f9982c3487a4d7e2fc0585c356\", element=\"9d2865a3-48bb-4ed0-9fdd-c6738fc0b634\")>]\n"
     ]
    }
   ],
   "source": [
    "movie_names = driver.find_elements(By.XPATH,'//div[@class=\"title_box\"]/strong')\n",
    "print(movie_names)"
   ]
  },
  {
   "cell_type": "code",
   "execution_count": 10,
   "id": "f9594b77",
   "metadata": {},
   "outputs": [
    {
     "name": "stdout",
     "output_type": "stream",
     "text": [
      "헌트\n",
      "육사오(6/45)\n",
      "한산: 용의 출현\n",
      "불릿 트레인\n",
      "탑건: 매버릭\n",
      "놉\n",
      "귀멸의 칼날: 아사쿠사 편\n",
      "사랑할 땐 누구나 최악이 된다\n",
      "미니언즈2\n",
      "비상선언\n",
      "헤어질 결심\n",
      "DC 리그 오브 슈퍼-펫\n",
      "뿌까의 짜장면파티\n",
      "바다 탐험대 옥토넛 : 탐험...\n",
      "코코순이\n",
      "\n",
      "\n",
      "\n",
      "\n",
      "\n",
      "\n",
      "\n",
      "\n",
      "\n",
      "\n",
      "\n",
      "\n",
      "\n",
      "\n",
      "\n",
      "\n",
      "\n",
      "\n",
      "\n",
      "\n",
      "\n",
      "\n",
      "\n",
      "\n",
      "\n",
      "\n",
      "\n",
      "\n",
      "\n",
      "\n",
      "\n"
     ]
    }
   ],
   "source": [
    "for x in movie_names:\n",
    "    print(x.text)"
   ]
  },
  {
   "cell_type": "code",
   "execution_count": 15,
   "id": "74d0cccf",
   "metadata": {},
   "outputs": [
    {
     "name": "stdout",
     "output_type": "stream",
     "text": [
      "[<selenium.webdriver.remote.webelement.WebElement (session=\"d675e2f9982c3487a4d7e2fc0585c356\", element=\"ef08485f-b914-4f4c-a05b-e5879a7f5aaa\")>, <selenium.webdriver.remote.webelement.WebElement (session=\"d675e2f9982c3487a4d7e2fc0585c356\", element=\"25cfd220-d2d8-4639-89e3-07cec17e43d5\")>, <selenium.webdriver.remote.webelement.WebElement (session=\"d675e2f9982c3487a4d7e2fc0585c356\", element=\"3f209e57-0031-41c3-8de6-4c73ae7dc6bf\")>, <selenium.webdriver.remote.webelement.WebElement (session=\"d675e2f9982c3487a4d7e2fc0585c356\", element=\"a4640d9e-7501-42c1-80ec-0678138aca05\")>]\n"
     ]
    }
   ],
   "source": [
    "next_pg = driver.find_elements(By.XPATH, '//div[@class=\"cm_paging_area _page\"]/div[@class=\"pgs\"]/a')\n",
    "print(next_pg)\n",
    "next_pg[1].click()"
   ]
  },
  {
   "cell_type": "code",
   "execution_count": 19,
   "id": "ef46f399",
   "metadata": {},
   "outputs": [],
   "source": [
    "driver.get('https://movie.naver.com/movie/sdb/rank/rmovie.naver')"
   ]
  },
  {
   "cell_type": "code",
   "execution_count": 22,
   "id": "b0f556ed",
   "metadata": {},
   "outputs": [
    {
     "name": "stdout",
     "output_type": "stream",
     "text": [
      "헌트\n",
      "한산: 용의 출현\n",
      "비상선언\n",
      "탑건: 매버릭\n",
      "놉\n",
      "외계+인 1부\n",
      "육사오(6/45)\n",
      "불릿 트레인\n",
      "헤어질 결심\n",
      "공조2: 인터내셔날\n",
      "미니언즈2\n",
      "어웨이크\n",
      "파로호\n",
      "사랑할 땐 누구나 최악이 된다\n",
      "귀멸의 칼날: 아사쿠사 편\n",
      "범죄도시2\n",
      "블랙폰\n",
      "리볼버\n",
      "녹턴\n",
      "늑대사냥\n",
      "파라다이스 하이웨이\n",
      "풀타임\n",
      "정직한 후보2\n",
      "말아\n",
      "큐브\n",
      "탑건\n",
      "토르: 러브 앤 썬더\n",
      "노스맨\n",
      "리미트\n",
      "엔젤 하트\n",
      "극장판 도라에몽: 진구의 우주소전쟁 리틀스타워즈 2021\n",
      "어스\n",
      "DC 리그 오브 슈퍼-펫\n",
      "카터\n",
      "겟 아웃\n",
      "명탐정 코난: 할로윈의 신부\n",
      "뽀로로 극장판 드래곤캐슬 대모험\n",
      "브로커\n",
      "마녀(魔女) Part2. The Other One\n",
      "그레이 맨\n",
      "귀멸의 칼날: 남매의 연\n",
      "초록밤\n",
      "모가디슈\n",
      "멋진 세계\n",
      "엘비스\n",
      "컴백홈\n",
      "인플루엔자\n",
      "투란도트 어둠의 왕국\n",
      "바다 탐험대 옥토넛 : 탐험선 대작전\n",
      "노웨어 스페셜\n",
      "50\n"
     ]
    }
   ],
   "source": [
    "movie_names = driver.find_elements(By.XPATH,'//td[@class=\"title\"]//a')\n",
    "for x in movie_names:\n",
    "    print(x.text)\n",
    "print(len(movie_names))"
   ]
  }
 ],
 "metadata": {
  "kernelspec": {
   "display_name": "Python 3 (ipykernel)",
   "language": "python",
   "name": "python3"
  },
  "language_info": {
   "codemirror_mode": {
    "name": "ipython",
    "version": 3
   },
   "file_extension": ".py",
   "mimetype": "text/x-python",
   "name": "python",
   "nbconvert_exporter": "python",
   "pygments_lexer": "ipython3",
   "version": "3.10.5"
  }
 },
 "nbformat": 4,
 "nbformat_minor": 5
}
