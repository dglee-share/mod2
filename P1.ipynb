{
 "cells": [
  {
   "cell_type": "code",
   "execution_count": 12,
   "id": "3a8e45f4",
   "metadata": {},
   "outputs": [],
   "source": [
    "import pickle\n",
    "\n",
    "with open('한국전력공사_지역별 전기차 현황정보_20220429.csv', 'r', encoding='utf-8') as f:\n",
    "    raw = f.readlines()\n",
    "\n",
    "raw_list=[]\n",
    "for line in raw:\n",
    "    raw_list.append(line[:-1].split(','))\n",
    "    \n",
    "area_list = raw_list[0][1:-1]\n",
    "#print(raw_list)\n",
    "date_list = [x[0] for x in raw_list[1:]]\n",
    "#print(date_list)\n",
    "counts_by_area_over_dates = [x[1:-1] for x in raw_list[1:]]\n",
    "\n",
    "for counts_over_dates in counts_by_area_over_dates:\n",
    "    for index, counts_by_area in enumerate(counts_over_dates):\n",
    "        counts_over_dates[index] = int(counts_by_area)\n",
    "\n",
    "#print(counts_by_area_over_dates)\n",
    "\n",
    "pickle_data = dict()\n",
    "pickle_data['date_list'] = date_list\n",
    "pickle_data['area_list'] = area_list\n",
    "pickle_data['counts_by_area_over_dates'] = counts_by_area_over_dates\n",
    "pickle_data['comment']='my comment'\n",
    "\n",
    "with open('mydata.pickle','wb') as f:\n",
    "    pickle.dump(pickle_data,f)"
   ]
  }
 ],
 "metadata": {
  "kernelspec": {
   "display_name": "Python 3 (ipykernel)",
   "language": "python",
   "name": "python3"
  },
  "language_info": {
   "codemirror_mode": {
    "name": "ipython",
    "version": 3
   },
   "file_extension": ".py",
   "mimetype": "text/x-python",
   "name": "python",
   "nbconvert_exporter": "python",
   "pygments_lexer": "ipython3",
   "version": "3.10.5"
  }
 },
 "nbformat": 4,
 "nbformat_minor": 5
}
