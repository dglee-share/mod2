{
 "cells": [
  {
   "cell_type": "code",
   "execution_count": 5,
   "id": "d84465ad",
   "metadata": {},
   "outputs": [],
   "source": [
    "from selenium import webdriver\n",
    "from selenium.webdriver.common.by import By\n",
    "from selenium.webdriver.common.action_chains import ActionChains\n",
    "from selenium.webdriver.support.wait import WebDriverWait"
   ]
  },
  {
   "cell_type": "code",
   "execution_count": 56,
   "id": "6b121f76",
   "metadata": {},
   "outputs": [
    {
     "data": {
      "text/plain": [
       "[<selenium.webdriver.remote.webelement.WebElement (session=\"a0e221fc-936f-437d-9900-6c1ea0314367\", element=\"9fb98807-30ec-484f-9499-3079be343905\")>]"
      ]
     },
     "execution_count": 56,
     "metadata": {},
     "output_type": "execute_result"
    }
   ],
   "source": [
    "driver = webdriver.Firefox()\n",
    "driver.get('https://www.w3schools.com/xml/books.xml')\n",
    "WebDriverWait(driver, timeout=10).until(lambda d: d.find_elements(By.XPATH, '/bookstore'))"
   ]
  },
  {
   "cell_type": "code",
   "execution_count": 9,
   "id": "b9246b47",
   "metadata": {},
   "outputs": [],
   "source": [
    "def test_xpath(xpath_str):\n",
    "    list1 = driver.find_elements(By.XPATH, xpath_str)\n",
    "    print('count: ', len(list1))\n",
    "    for x in list1:\n",
    "        print(x.tag_name, '::', x.text)\n",
    "        \n",
    "# .tag_name --> name(),  .text --> text(),  .get_attribute() --> @"
   ]
  },
  {
   "cell_type": "code",
   "execution_count": 31,
   "id": "6d58ac4e",
   "metadata": {},
   "outputs": [
    {
     "name": "stdout",
     "output_type": "stream",
     "text": [
      "count:  9\n",
      "bookstore :: Everyday Italian Giada De Laurentiis 2005 30.00 Harry Potter J K. Rowling 2005 29.99 XQuery Kick Start James McGovern Per Bothner Kurt Cagle James Linn Vaidyanathan Nagarajan 2003 49.99 Learning XML Erik T. Ray 2003 39.95\n",
      "author :: Giada De Laurentiis\n",
      "author :: J K. Rowling\n",
      "author :: James McGovern\n",
      "author :: Per Bothner\n",
      "author :: Kurt Cagle\n",
      "author :: James Linn\n",
      "author :: Vaidyanathan Nagarajan\n",
      "author :: Erik T. Ray\n"
     ]
    }
   ],
   "source": [
    "#test_xpath('//book[2]')\n",
    "#test_xpath('//book[last()-3]')\n",
    "#test_xpath('//book[position()>2]')\n",
    "#test_xpath('//*[count(author)=1]')\n",
    "#test_xpath('//book[count(*)=4]')\n",
    "#test_xpath('//book[price>35.0]')\n",
    "#test_xpath('//*[text()=\"29.99\"]')\n",
    "\n",
    "#test_xpath('//year')\n",
    "#test_xpath('//*[name()=\"year\"]')\n",
    "#test_xpath('//*[contains(name(),\"aut\")]')\n",
    "#test_xpath('//*[starts-with(name(),\"b\")]')\n",
    "test_xpath('//*[string-length(name())>5]')"
   ]
  },
  {
   "cell_type": "code",
   "execution_count": 48,
   "id": "a6b584d5",
   "metadata": {},
   "outputs": [
    {
     "name": "stdout",
     "output_type": "stream",
     "text": [
      "count:  2\n",
      "title :: XQuery Kick Start\n",
      "author :: James McGovern\n"
     ]
    }
   ],
   "source": [
    "#test_xpath('//book[@category=\"cooking\"]')\n",
    "#test_xpath('//child::book[@category=\"cooking\"]')\n",
    "#test_xpath('//book[@category=\"cooking\"]/*')\n",
    "#test_xpath('/bookstore/child::*')\n",
    "#test_xpath('/bookstore/descendant::*')\n",
    "#test_xpath('/bookstore/descendant::*[@lang]')\n",
    "\n",
    "#test_xpath('//price[text()=\"29.99\"]')\n",
    "#test_xpath('//price[text()=\"29.99\"]/parent::*')\n",
    "#test_xpath('//price[text()=\"29.99\"]/ancestor::*')\n",
    "\n",
    "#test_xpath('//book[3]/author[2]')\n",
    "#test_xpath('//book[3]/author[2]//following-sibling::*')\n",
    "test_xpath('//book[3]/author[2]//preceding-sibling::*')"
   ]
  },
  {
   "cell_type": "code",
   "execution_count": 52,
   "id": "f6c0c396",
   "metadata": {},
   "outputs": [
    {
     "name": "stdout",
     "output_type": "stream",
     "text": [
      "count:  4\n",
      "cooking\n",
      "children\n",
      "web\n",
      "web\n"
     ]
    }
   ],
   "source": [
    "list1 = driver.find_elements(By.XPATH, '//book[@category]')\n",
    "print('count: ', len(list1))\n",
    "for x in list1:\n",
    "    print(x.get_attribute('category'))"
   ]
  },
  {
   "cell_type": "code",
   "execution_count": 53,
   "id": "7e292815",
   "metadata": {},
   "outputs": [
    {
     "name": "stdout",
     "output_type": "stream",
     "text": [
      "count:  1\n",
      "children\n"
     ]
    }
   ],
   "source": [
    "list1 = driver.find_elements(By.XPATH, '//book[contains(@category,\"ch\")]')\n",
    "\n",
    "print('count: ', len(list1))\n",
    "for x in list1:\n",
    "    print(x.get_attribute('category'))"
   ]
  }
 ],
 "metadata": {
  "kernelspec": {
   "display_name": "Python 3 (ipykernel)",
   "language": "python",
   "name": "python3"
  },
  "language_info": {
   "codemirror_mode": {
    "name": "ipython",
    "version": 3
   },
   "file_extension": ".py",
   "mimetype": "text/x-python",
   "name": "python",
   "nbconvert_exporter": "python",
   "pygments_lexer": "ipython3",
   "version": "3.10.5"
  }
 },
 "nbformat": 4,
 "nbformat_minor": 5
}
