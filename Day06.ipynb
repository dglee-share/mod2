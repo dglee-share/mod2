{
 "cells": [
  {
   "cell_type": "code",
   "execution_count": 1,
   "id": "cedda023",
   "metadata": {},
   "outputs": [
    {
     "name": "stdout",
     "output_type": "stream",
     "text": [
      "[]\n"
     ]
    }
   ],
   "source": [
    "from bs4 import BeautifulSoup\n",
    "from lxml import etree\n",
    "import requests\n",
    "\n",
    "url = 'http://www.data.go.kr'\n",
    "response = requests.get(url)\n",
    "soup = BeautifulSoup(response.content, 'html.parser')\n",
    "dom = etree.HTML(str(soup))\n",
    "\n",
    "t = dom.xpath('//*[@id=\"tab_popular_data02\"]')\n",
    "print(t)"
   ]
  },
  {
   "cell_type": "code",
   "execution_count": 13,
   "id": "4fe645c2",
   "metadata": {},
   "outputs": [],
   "source": []
  },
  {
   "cell_type": "code",
   "execution_count": 14,
   "id": "b2a6bd1f",
   "metadata": {},
   "outputs": [
    {
     "name": "stdout",
     "output_type": "stream",
     "text": [
      "[<selenium.webdriver.remote.webelement.WebElement (session=\"d95115045d4f6e115bb3abc4e4f8079e\", element=\"73bbe1ec-3163-4524-b6ad-0d3f4208c072\")>, <selenium.webdriver.remote.webelement.WebElement (session=\"d95115045d4f6e115bb3abc4e4f8079e\", element=\"dfa827a7-a8ed-4252-b944-4b98dcac80b2\")>, <selenium.webdriver.remote.webelement.WebElement (session=\"d95115045d4f6e115bb3abc4e4f8079e\", element=\"bb18032c-7663-44e3-9b4f-d3c6d5c8264a\")>, <selenium.webdriver.remote.webelement.WebElement (session=\"d95115045d4f6e115bb3abc4e4f8079e\", element=\"65b40ac0-758d-44db-a020-117d07b1ce4b\")>, <selenium.webdriver.remote.webelement.WebElement (session=\"d95115045d4f6e115bb3abc4e4f8079e\", element=\"fd2402d0-75c4-4580-9100-62285b43e14c\")>, <selenium.webdriver.remote.webelement.WebElement (session=\"d95115045d4f6e115bb3abc4e4f8079e\", element=\"3f6035e7-f270-47e7-99b7-1e9571d1dbc4\")>, <selenium.webdriver.remote.webelement.WebElement (session=\"d95115045d4f6e115bb3abc4e4f8079e\", element=\"d5fbb2ae-b204-4df8-be4e-d4c6a63bedce\")>, <selenium.webdriver.remote.webelement.WebElement (session=\"d95115045d4f6e115bb3abc4e4f8079e\", element=\"869200aa-2489-4afb-ae0d-39cd585ee903\")>, <selenium.webdriver.remote.webelement.WebElement (session=\"d95115045d4f6e115bb3abc4e4f8079e\", element=\"b91a9b1a-10d2-4687-8074-3ed6a717d8bc\")>, <selenium.webdriver.remote.webelement.WebElement (session=\"d95115045d4f6e115bb3abc4e4f8079e\", element=\"f2093126-574c-4b93-87b3-71947d4de51f\")>]\n"
     ]
    }
   ],
   "source": []
  },
  {
   "cell_type": "code",
   "execution_count": 15,
   "id": "4346bffb",
   "metadata": {},
   "outputs": [
    {
     "name": "stdout",
     "output_type": "stream",
     "text": [
      "전국어린이보호구역표준데이터\n",
      "전국자동차정비업체표준데이터\n",
      "전국주정차금지(지정)구역표준데이터\n",
      "전국견인차량보관소표준데이터\n",
      "전국공연행사정보표준데이터\n",
      "전국금연구역표준데이터\n",
      "전국농기계임대정보표준데이터\n",
      "전국가로수길정보표준데이터\n",
      "전국소방자동차전용구역표준데이터\n",
      "전국야생동물구조센터정보표준데이터\n"
     ]
    }
   ],
   "source": []
  }
 ],
 "metadata": {
  "kernelspec": {
   "display_name": "Python 3 (ipykernel)",
   "language": "python",
   "name": "python3"
  },
  "language_info": {
   "codemirror_mode": {
    "name": "ipython",
    "version": 3
   },
   "file_extension": ".py",
   "mimetype": "text/x-python",
   "name": "python",
   "nbconvert_exporter": "python",
   "pygments_lexer": "ipython3",
   "version": "3.10.5"
  }
 },
 "nbformat": 4,
 "nbformat_minor": 5
}
