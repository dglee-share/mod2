{
 "cells": [
  {
   "cell_type": "code",
   "execution_count": 14,
   "id": "d93675d1",
   "metadata": {},
   "outputs": [],
   "source": [
    "from selenium import webdriver\n",
    "from selenium.webdriver.common.by import By\n",
    "from selenium.webdriver.common.keys import Keys\n",
    "from selenium.webdriver.support.wait import WebDriverWait\n",
    "from selenium.webdriver.support import expected_conditions as ec\n",
    "import pickle\n",
    "\n",
    "driver = webdriver.Firefox()\n",
    "driver.get('https://www.naver.com')\n",
    "\n",
    "xpath_str = '//input[@id=\"query\"]'\n",
    "cond = ec.presence_of_element_located((By.XPATH,xpath_str))\n",
    "WebDriverWait(driver, timeout=10).until(cond)\n",
    "\n",
    "naver_searchbox = driver.find_elements(By.XPATH,xpath_str)\n",
    "naver_searchbox[0].send_keys('영화랭킹' + Keys.ENTER)\n",
    "\n",
    "##################################\n",
    "\n",
    "xpath_str = '//a[contains(@href,\"movie.naver.com\")]/descendant::*[contains(text(),\"영화랭킹\")]'\n",
    "cond = ec.presence_of_element_located((By.XPATH,xpath_str))\n",
    "WebDriverWait(driver, timeout=5).until(cond)\n",
    "\n",
    "n = len(driver.window_handles)\n",
    "naver_movie_rank_link = driver.find_elements(By.XPATH, xpath_str)\n",
    "naver_movie_rank_link[0].click()\n",
    "#print(naver_movie_rank_link)\n",
    "\n",
    "##################################\n",
    "WebDriverWait(driver, timeout=5).until(ec.number_of_windows_to_be(n+1))\n",
    "tabs = driver.window_handles\n",
    "driver.switch_to.window(tabs[-1])\n",
    "\n",
    "##################################\n",
    "\n",
    "xpath_str='//a/img[contains(@alt,\"모든영화\")]'\n",
    "cond = ec.presence_of_element_located((By.XPATH,xpath_str))\n",
    "WebDriverWait(driver, timeout=5).until(cond)\n",
    "\n",
    "all_movies = driver.find_elements(By.XPATH, xpath_str)\n",
    "all_movies[0].click()\n",
    "\n",
    "#########################################\n",
    "\n",
    "movie_info=[]\n",
    "\n",
    "for i in range(10):\n",
    "    xpath_str = '//a[text()=\"다음\" and contains(@href,\"page={}\")]'.format(i+2)\n",
    "    cond = ec.presence_of_element_located((By.XPATH,xpath_str))\n",
    "    WebDriverWait(driver, timeout=5).until(cond)\n",
    "    \n",
    "    next_link = driver.find_elements(By.XPATH, '//a[text()=\"다음\"]')\n",
    "    titles = driver.find_elements(By.XPATH, '//td[@class=\"title\"]//a')\n",
    "    for t in titles:\n",
    "        movie_code = t.get_attribute('href')\n",
    "        movie_code = movie_code.split('=')[1]\n",
    "        movie_info.append([movie_code, t.text])\n",
    "        \n",
    "    next_link[0].click()\n",
    "##################################\n",
    "\n",
    "driver.quit()\n",
    "\n",
    "with open('NaverMovie1.pickle', 'wb') as f:\n",
    "    pickle.dump(movie_info, f)\n",
    "    \n"
   ]
  },
  {
   "cell_type": "code",
   "execution_count": 10,
   "id": "da4c8224",
   "metadata": {},
   "outputs": [
    {
     "data": {
      "text/plain": [
       "'my number 5'"
      ]
     },
     "execution_count": 10,
     "metadata": {},
     "output_type": "execute_result"
    }
   ],
   "source": [
    "n = 5\n",
    "'my number {}'.format(n)"
   ]
  }
 ],
 "metadata": {
  "kernelspec": {
   "display_name": "Python 3 (ipykernel)",
   "language": "python",
   "name": "python3"
  },
  "language_info": {
   "codemirror_mode": {
    "name": "ipython",
    "version": 3
   },
   "file_extension": ".py",
   "mimetype": "text/x-python",
   "name": "python",
   "nbconvert_exporter": "python",
   "pygments_lexer": "ipython3",
   "version": "3.10.5"
  }
 },
 "nbformat": 4,
 "nbformat_minor": 5
}
