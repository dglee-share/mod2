{
 "cells": [
  {
   "cell_type": "code",
   "execution_count": 1,
   "id": "81459417",
   "metadata": {},
   "outputs": [],
   "source": [
    "# 네이버 환율계산\n",
    "from selenium import webdriver\n",
    "from selenium.webdriver.common.by import By\n",
    "from selenium.webdriver.common.keys import Keys    # Keys.ENTER\n",
    "from selenium.webdriver.common.action_chains import ActionChains\n",
    "from selenium.webdriver.support.wait import WebDriverWait"
   ]
  },
  {
   "cell_type": "code",
   "execution_count": 7,
   "id": "af12e56b",
   "metadata": {},
   "outputs": [],
   "source": [
    "driver = webdriver.Firefox()\n",
    "driver.get('https://search.naver.com/search.naver?where=nexearch&sm=top_hty&fbm=1&ie=utf8&query=%ED%99%98%EC%9C%A8')"
   ]
  },
  {
   "cell_type": "code",
   "execution_count": 40,
   "id": "191fd45a",
   "metadata": {},
   "outputs": [
    {
     "name": "stdout",
     "output_type": "stream",
     "text": [
      "166,117.65\n"
     ]
    }
   ],
   "source": [
    "money_from = driver.find_elements(By.XPATH, '//input[@id=\"ds_from_money\"]')\n",
    "\n",
    "for _ in range(10):\n",
    "    money_from[0].send_keys(Keys.BACKSPACE)\n",
    "\n",
    "money_from[0].send_keys('333' + Keys.ENTER)\n",
    "\n",
    "WebDriverWait(driver, timeout=10)\n",
    "\n",
    "money_to = driver.find_elements(By.XPATH, '//input[@id=\"ds_to_money\"]')\n",
    "print(money_to[0].get_attribute('value'))"
   ]
  },
  {
   "cell_type": "code",
   "execution_count": 27,
   "id": "c9a02e8f",
   "metadata": {},
   "outputs": [
    {
     "name": "stdout",
     "output_type": "stream",
     "text": [
      "매매기준율\n",
      "환율우대없음\n"
     ]
    }
   ],
   "source": [
    "box1 = driver.find_elements(By.XPATH, '//div[contains(@class, \"rate_select\") and @data-query=\"u6\"]/a')\n",
    "box2 = driver.find_elements(By.XPATH, '//div[contains(@class, \"rate_select\") and @data-query=\"u7\"]/a')\n",
    "print(box1[0].text)\n",
    "print(box2[0].text)"
   ]
  },
  {
   "cell_type": "code",
   "execution_count": 29,
   "id": "26c2d231",
   "metadata": {},
   "outputs": [],
   "source": [
    "box1[0].click()"
   ]
  },
  {
   "cell_type": "code",
   "execution_count": 34,
   "id": "ad2275a4",
   "metadata": {
    "scrolled": true
   },
   "outputs": [
    {
     "name": "stdout",
     "output_type": "stream",
     "text": [
      "4\n",
      "현찰 살때\n",
      "현찰 팔때\n",
      "송금 보낼때\n",
      "송금 받을때\n"
     ]
    }
   ],
   "source": [
    "opt1 = driver.find_elements(By.XPATH, '//div[contains(@class, \"rate_select\") and @data-query=\"u6\"]/descendant::li[@class=\"_i\"]/a')\n",
    "print(len(opt1))\n",
    "for x in opt1:\n",
    "    print(x.text)\n",
    "opt1[2].click()"
   ]
  },
  {
   "cell_type": "code",
   "execution_count": 35,
   "id": "3961c091",
   "metadata": {},
   "outputs": [],
   "source": [
    "box2[0].click()"
   ]
  },
  {
   "cell_type": "code",
   "execution_count": 37,
   "id": "54eacc5c",
   "metadata": {},
   "outputs": [
    {
     "name": "stdout",
     "output_type": "stream",
     "text": [
      "9\n",
      "환율우대 90%\n",
      "환율우대 80%\n",
      "환율우대 70%\n",
      "환율우대 60%\n",
      "환율우대 50%\n",
      "환율우대 40%\n",
      "환율우대 30%\n",
      "환율우대 20%\n",
      "환율우대 10%\n"
     ]
    }
   ],
   "source": [
    "opt2 = driver.find_elements(By.XPATH, '//div[contains(@class, \"rate_select\") and @data-query=\"u7\"]/descendant::li[@class=\"_i\"]/a')\n",
    "print(len(opt2))\n",
    "for x in opt2:\n",
    "    print(x.text)\n",
    "opt2[4].click()"
   ]
  }
 ],
 "metadata": {
  "kernelspec": {
   "display_name": "Python 3 (ipykernel)",
   "language": "python",
   "name": "python3"
  },
  "language_info": {
   "codemirror_mode": {
    "name": "ipython",
    "version": 3
   },
   "file_extension": ".py",
   "mimetype": "text/x-python",
   "name": "python",
   "nbconvert_exporter": "python",
   "pygments_lexer": "ipython3",
   "version": "3.10.5"
  }
 },
 "nbformat": 4,
 "nbformat_minor": 5
}
