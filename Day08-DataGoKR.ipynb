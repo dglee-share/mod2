{
 "cells": [
  {
   "cell_type": "code",
   "execution_count": 2,
   "id": "94da9d52",
   "metadata": {},
   "outputs": [
    {
     "name": "stdout",
     "output_type": "stream",
     "text": [
      "b'<?xml version=\"1.0\" encoding=\"UTF-8\"?>\\r\\n<response><header><resultCode>00</resultCode><resultMsg>NORMAL_SERVICE</resultMsg></header><body><dataType>XML</dataType><items><item><baseDate>20220831</baseDate><baseTime>0600</baseTime><category>PTY</category><nx>55</nx><ny>127</ny><obsrValue>0</obsrValue></item><item><baseDate>20220831</baseDate><baseTime>0600</baseTime><category>REH</category><nx>55</nx><ny>127</ny><obsrValue>92</obsrValue></item><item><baseDate>20220831</baseDate><baseTime>0600</baseTime><category>RN1</category><nx>55</nx><ny>127</ny><obsrValue>0</obsrValue></item><item><baseDate>20220831</baseDate><baseTime>0600</baseTime><category>T1H</category><nx>55</nx><ny>127</ny><obsrValue>19.6</obsrValue></item><item><baseDate>20220831</baseDate><baseTime>0600</baseTime><category>UUU</category><nx>55</nx><ny>127</ny><obsrValue>0.2</obsrValue></item><item><baseDate>20220831</baseDate><baseTime>0600</baseTime><category>VEC</category><nx>55</nx><ny>127</ny><obsrValue>343</obsrValue></item><item><baseDate>20220831</baseDate><baseTime>0600</baseTime><category>VVV</category><nx>55</nx><ny>127</ny><obsrValue>-0.5</obsrValue></item><item><baseDate>20220831</baseDate><baseTime>0600</baseTime><category>WSD</category><nx>55</nx><ny>127</ny><obsrValue>0.6</obsrValue></item></items><numOfRows>1000</numOfRows><pageNo>1</pageNo><totalCount>8</totalCount></body></response>\\r\\n'\n"
     ]
    }
   ],
   "source": [
    "import requests\n",
    "from lxml import etree\n",
    "\n",
    "url = 'http://apis.data.go.kr/1360000/VilageFcstInfoService_2.0/getUltraSrtNcst'\n",
    "skey ='do5+utf2lYna4n/J/CnRLqhaoSVTq1Pm8n3Cd78SMWVoA/GunIy41I5s5w+mteCt3wVOqmX+b7VcDFWAPM3Etw=='\n",
    "params ={'serviceKey' : skey, 'pageNo' : '1', 'numOfRows' : '1000', 'dataType' : 'XML', 'base_date' : '20220831', 'base_time' : '0600', 'nx' : '55', 'ny' : '127' }\n",
    "\n",
    "response = requests.get(url, params=params)\n",
    "print(response.content)"
   ]
  },
  {
   "cell_type": "code",
   "execution_count": 10,
   "id": "8a54e454",
   "metadata": {},
   "outputs": [
    {
     "name": "stdout",
     "output_type": "stream",
     "text": [
      "['92']\n"
     ]
    }
   ],
   "source": [
    "r = etree.XML(response.content)\n",
    "x = r.xpath('//category[text()=\"REH\"]/following-sibling::obsrValue/text()')\n",
    "print(x)\n",
    "#print(x[0].text)"
   ]
  },
  {
   "cell_type": "code",
   "execution_count": 9,
   "id": "aba5743d",
   "metadata": {},
   "outputs": [
    {
     "name": "stdout",
     "output_type": "stream",
     "text": [
      "['PTY', 'REH', 'RN1', 'T1H', 'UUU', 'VEC', 'VVV', 'WSD']\n"
     ]
    }
   ],
   "source": [
    "x = r.xpath('//category/text()')\n",
    "print(x)"
   ]
  }
 ],
 "metadata": {
  "kernelspec": {
   "display_name": "Python 3 (ipykernel)",
   "language": "python",
   "name": "python3"
  },
  "language_info": {
   "codemirror_mode": {
    "name": "ipython",
    "version": 3
   },
   "file_extension": ".py",
   "mimetype": "text/x-python",
   "name": "python",
   "nbconvert_exporter": "python",
   "pygments_lexer": "ipython3",
   "version": "3.10.5"
  }
 },
 "nbformat": 4,
 "nbformat_minor": 5
}
