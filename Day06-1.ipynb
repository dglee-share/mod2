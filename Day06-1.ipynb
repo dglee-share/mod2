{
 "cells": [
  {
   "cell_type": "code",
   "execution_count": 1,
   "id": "f6477f1c",
   "metadata": {},
   "outputs": [],
   "source": [
    "from selenium import webdriver\n",
    "from selenium.webdriver.common.by import By\n",
    "\n",
    "driver = webdriver.Chrome()\n",
    "driver.get('https://www.data.go.kr/tcs/dss/selectDataSetList.do?dType=STD&keyword=&detailKeyword=&publicDataPk=&recmSe=&detailText=&relatedKeyword=&commaNotInData=&commaAndData=&commaOrData=&must_not=&tabId=&dataSetCoreTf=&coreDataNm=&sort=updtDt&relRadio=&orgFullName=&orgFilter=&org=&orgSearch=&currentPage=1&perPage=10&brm=&instt=&svcType=&kwrdArray=&extsn=&coreDataNmArray=&pblonsipScopeCode=')"
   ]
  },
  {
   "cell_type": "code",
   "execution_count": 2,
   "id": "44185612",
   "metadata": {
    "scrolled": true
   },
   "outputs": [
    {
     "name": "stdout",
     "output_type": "stream",
     "text": [
      "[<selenium.webdriver.remote.webelement.WebElement (session=\"52221cb25dfa9746bdafda11acd50c60\", element=\"0ea02158-30f2-4b8b-bdf5-8cc318761e26\")>, <selenium.webdriver.remote.webelement.WebElement (session=\"52221cb25dfa9746bdafda11acd50c60\", element=\"b060de29-3d09-405c-ae30-4e8e1be4c6dd\")>, <selenium.webdriver.remote.webelement.WebElement (session=\"52221cb25dfa9746bdafda11acd50c60\", element=\"3014fe49-4123-4135-a2b4-4db82ec809f9\")>, <selenium.webdriver.remote.webelement.WebElement (session=\"52221cb25dfa9746bdafda11acd50c60\", element=\"29a47192-71a3-447f-9afc-c5145ab37a4f\")>, <selenium.webdriver.remote.webelement.WebElement (session=\"52221cb25dfa9746bdafda11acd50c60\", element=\"ddb7e3a5-b667-4901-9ae2-11c12de3a5c4\")>, <selenium.webdriver.remote.webelement.WebElement (session=\"52221cb25dfa9746bdafda11acd50c60\", element=\"558c406e-8aa7-47b4-bce6-4ece2e1a547c\")>, <selenium.webdriver.remote.webelement.WebElement (session=\"52221cb25dfa9746bdafda11acd50c60\", element=\"0d2e7b07-c712-4e1e-b190-12216c3f0de2\")>, <selenium.webdriver.remote.webelement.WebElement (session=\"52221cb25dfa9746bdafda11acd50c60\", element=\"9bb4549c-6f66-4824-a114-9e2f125a7388\")>, <selenium.webdriver.remote.webelement.WebElement (session=\"52221cb25dfa9746bdafda11acd50c60\", element=\"63d4f9fa-82fd-4f9c-a970-40f1f4902653\")>, <selenium.webdriver.remote.webelement.WebElement (session=\"52221cb25dfa9746bdafda11acd50c60\", element=\"f8723ba8-fdd0-425f-bd0d-048fc71d4e40\")>]\n",
      "전국어린이보호구역표준데이터\n",
      "전국자동차정비업체표준데이터\n",
      "전국주정차금지(지정)구역표준데이터\n",
      "전국견인차량보관소표준데이터\n",
      "전국공연행사정보표준데이터\n",
      "전국금연구역표준데이터\n",
      "전국농기계임대정보표준데이터\n",
      "전국가로수길정보표준데이터\n",
      "전국소방자동차전용구역표준데이터\n",
      "전국야생동물구조센터정보표준데이터\n"
     ]
    }
   ],
   "source": [
    "list1 = driver.find_elements(By.XPATH,'//span[@class=\"title std-title\"]')\n",
    "print(list1)\n",
    "for x in list1:\n",
    "    print(x.text)"
   ]
  },
  {
   "cell_type": "code",
   "execution_count": 7,
   "id": "d51b4abf",
   "metadata": {},
   "outputs": [
    {
     "name": "stdout",
     "output_type": "stream",
     "text": [
      "5\n"
     ]
    }
   ],
   "source": [
    "driver.get('http://www.data.go.kr')\n"
   ]
  },
  {
   "cell_type": "code",
   "execution_count": 10,
   "id": "6755d4f6",
   "metadata": {},
   "outputs": [
    {
     "name": "stdout",
     "output_type": "stream",
     "text": [
      "5\n",
      "전국종량제봉투가격표준데이터\n",
      "전국무인교통단속카메라표준데이터\n",
      "소상공인시장진흥공단_상가(상권)정보\n",
      "전국CCTV표준데이터\n",
      "국민연금공단_국민연금 가입 사업장 내역\n"
     ]
    }
   ],
   "source": [
    "list1 = driver.find_elements(By.XPATH,'//div[@id=\"tab_popular_data01\"]//a')\n",
    "print(len(list1))\n",
    "for x in list1:\n",
    "    print(x.text)\n",
    "list1[0].click()"
   ]
  },
  {
   "cell_type": "code",
   "execution_count": 13,
   "id": "d92c5209",
   "metadata": {},
   "outputs": [
    {
     "name": "stdout",
     "output_type": "stream",
     "text": [
      "[<selenium.webdriver.remote.webelement.WebElement (session=\"52221cb25dfa9746bdafda11acd50c60\", element=\"aa888980-35e1-44c6-8a3c-fb724b14fd3a\")>]\n"
     ]
    }
   ],
   "source": [
    "list1 = driver.find_elements(By.XPATH, '//input[@id=\"searchKeyword1\"]')\n",
    "print(list1)\n",
    "list1[0].send_keys('mysearchstring')"
   ]
  },
  {
   "cell_type": "code",
   "execution_count": 17,
   "id": "b2f0937d",
   "metadata": {},
   "outputs": [
    {
     "name": "stdout",
     "output_type": "stream",
     "text": [
      "[<selenium.webdriver.remote.webelement.WebElement (session=\"52221cb25dfa9746bdafda11acd50c60\", element=\"1951221b-46dc-491b-b6c5-ccd7022ae6d3\")>, <selenium.webdriver.remote.webelement.WebElement (session=\"52221cb25dfa9746bdafda11acd50c60\", element=\"61b495bc-839f-4920-b658-1d5e3e8fb7a9\")>]\n",
      "검색\n"
     ]
    }
   ],
   "source": [
    "list1 = driver.find_elements(By.XPATH,'//button[@title=\"검색 하기\"]')\n",
    "print(list1)\n",
    "print(list1[1].text)\n",
    "list1[1].click()"
   ]
  }
 ],
 "metadata": {
  "kernelspec": {
   "display_name": "Python 3 (ipykernel)",
   "language": "python",
   "name": "python3"
  },
  "language_info": {
   "codemirror_mode": {
    "name": "ipython",
    "version": 3
   },
   "file_extension": ".py",
   "mimetype": "text/x-python",
   "name": "python",
   "nbconvert_exporter": "python",
   "pygments_lexer": "ipython3",
   "version": "3.10.5"
  }
 },
 "nbformat": 4,
 "nbformat_minor": 5
}
